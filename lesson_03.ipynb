{
 "cells": [
  {
   "cell_type": "markdown",
   "metadata": {},
   "source": [
    "# Lesson 03\n",
    "\n",
    "# If-Elif-Else Conditionals, Spatial Data Models, Introduction to Pandas, GeoPandas\n",
    "\n",
    "\n",
    "![http://www.pratt.edu/tiny_mce/plugins/imagemanager/files/Light_brown_blue22.jpg](http://www.pratt.edu/tiny_mce/plugins/imagemanager/files/Light_brown_blue22.jpg)"
   ]
  },
  {
   "cell_type": "markdown",
   "metadata": {},
   "source": [
    "# Class Links\n",
    "\n",
    "* [Syllabus](https://docs.google.com/document/d/1KHxT-NkaoXXdSNkK8JlzL2FFgmNoxPQ25fwgtXPnbrY)\n",
    "\n",
    "* [Class Google Spreadsheet](https://docs.google.com/spreadsheets/d/1t481r7HjQBbjNtFOABSOlcckzQhdrh12TCzpSYKurI0/edit?usp=sharing)\n",
    "\n",
    "* [Google Meetup Video Hangout](https://meet.google.com/aym-kxae-bzr)\n",
    "\n",
    "  * For United States Dial +1 \n",
    "    * (669) 220-6376\n",
    "  * Enter this PIN when prompted: \n",
    "    * 891 126 706 #\n",
    "  \n",
    "* [GitHub Organization](https://github.com/pratt-savi-810)\n",
    "\n",
    "* [Slack Organization](https://app.slack.com/client/T01068MA75X/C010J3Q2QET)\n",
    "\n",
    "* [Resources](https://github.com/pratt-savi-810/resources)"
   ]
  },
  {
   "cell_type": "markdown",
   "metadata": {
    "toc": true
   },
   "source": [
    "<h1>Table of Contents<span class=\"tocSkip\"></span></h1>\n",
    "<div class=\"toc\"><ul class=\"toc-item\"><li><span><a href=\"#Lesson-03\" data-toc-modified-id=\"Lesson-03-1\">Lesson 03</a></span></li><li><span><a href=\"#If-Elif-Else-Conditionals,-Spatial-Data-Models,-Introduction-to-Pandas,-GeoPandas\" data-toc-modified-id=\"If-Elif-Else-Conditionals,-Spatial-Data-Models,-Introduction-to-Pandas,-GeoPandas-2\">If-Elif-Else Conditionals, Spatial Data Models, Introduction to Pandas, GeoPandas</a></span></li><li><span><a href=\"#Class-Links\" data-toc-modified-id=\"Class-Links-3\">Class Links</a></span></li><li><span><a href=\"#Learning-Objectives\" data-toc-modified-id=\"Learning-Objectives-4\">Learning Objectives</a></span><ul class=\"toc-item\"><li><ul class=\"toc-item\"><li><span><a href=\"#Fork-this-Lesson-Repo\" data-toc-modified-id=\"Fork-this-Lesson-Repo-4.0.1\">Fork this Lesson Repo</a></span></li></ul></li></ul></li><li><span><a href=\"#A-quick-overview-of-Terminal\" data-toc-modified-id=\"A-quick-overview-of-Terminal-5\">A quick overview of Terminal</a></span><ul class=\"toc-item\"><li><ul class=\"toc-item\"><li><ul class=\"toc-item\"><li><span><a href=\"#Open-Your-Terminal\" data-toc-modified-id=\"Open-Your-Terminal-5.0.0.1\">Open Your Terminal</a></span></li></ul></li></ul></li></ul></li><li><span><a href=\"#Geospatial-Data-Models\" data-toc-modified-id=\"Geospatial-Data-Models-6\">Geospatial Data Models</a></span><ul class=\"toc-item\"><li><ul class=\"toc-item\"><li><span><a href=\"#Install-GeoPandas\" data-toc-modified-id=\"Install-GeoPandas-6.0.1\">Install GeoPandas</a></span><ul class=\"toc-item\"><li><span><a href=\"#Command-to-Install-Geopandas\" data-toc-modified-id=\"Command-to-Install-Geopandas-6.0.1.1\">Command to Install Geopandas</a></span></li></ul></li></ul></li><li><span><a href=\"#Geospatial-Data-Models\" data-toc-modified-id=\"Geospatial-Data-Models-6.1\">Geospatial Data Models</a></span><ul class=\"toc-item\"><li><span><a href=\"#Vector-Data-Model\" data-toc-modified-id=\"Vector-Data-Model-6.1.1\">Vector Data Model</a></span></li><li><span><a href=\"#Shapely\" data-toc-modified-id=\"Shapely-6.1.2\">Shapely</a></span></li><li><span><a href=\"#Points\" data-toc-modified-id=\"Points-6.1.3\">Points</a></span></li><li><span><a href=\"#Lines---(LineString)\" data-toc-modified-id=\"Lines---(LineString)-6.1.4\">Lines - (LineString)</a></span></li><li><span><a href=\"#Intersection-of-Two-LineString-Objects\" data-toc-modified-id=\"Intersection-of-Two-LineString-Objects-6.1.5\">Intersection of Two LineString Objects</a></span></li><li><span><a href=\"#Polygons\" data-toc-modified-id=\"Polygons-6.1.6\">Polygons</a></span><ul class=\"toc-item\"><li><span><a href=\"#MultiPoint\" data-toc-modified-id=\"MultiPoint-6.1.6.1\">MultiPoint</a></span></li></ul></li></ul></li><li><span><a href=\"#Folium-(Python---Leaflet)-Mapping-Example\" data-toc-modified-id=\"Folium-(Python---Leaflet)-Mapping-Example-6.2\">Folium (Python - Leaflet) Mapping Example</a></span><ul class=\"toc-item\"><li><ul class=\"toc-item\"><li><span><a href=\"#First-let's-pip-install-folium.\" data-toc-modified-id=\"First-let's-pip-install-folium.-6.2.0.1\">First let's pip install folium.</a></span></li><li><span><a href=\"#Now-let's-save-this-Leaflet-map-as-an-html-webpage.\" data-toc-modified-id=\"Now-let's-save-this-Leaflet-map-as-an-html-webpage.-6.2.0.2\">Now let's save this Leaflet map as an html webpage.</a></span></li></ul></li></ul></li></ul></li><li><span><a href=\"#Finishing-up-From-Lecture-02\" data-toc-modified-id=\"Finishing-up-From-Lecture-02-7\">Finishing up From Lecture 02</a></span><ul class=\"toc-item\"><li><span><a href=\"#Python-Functions-Quick-Review\" data-toc-modified-id=\"Python-Functions-Quick-Review-7.1\">Python Functions Quick Review</a></span><ul class=\"toc-item\"><li><span><a href=\"#Define-your-own-Python-Functions\" data-toc-modified-id=\"Define-your-own-Python-Functions-7.1.1\">Define your own Python Functions</a></span></li><li><span><a href=\"#Python-Package-US---US-state-meta-information\" data-toc-modified-id=\"Python-Package-US---US-state-meta-information-7.1.2\">Python Package US - US state meta information</a></span></li><li><span><a href=\"#Python-function-Print-vs.-Return\" data-toc-modified-id=\"Python-function-Print-vs.-Return-7.1.3\">Python function Print vs. Return</a></span></li></ul></li><li><span><a href=\"#If---Elif---Else-Condition-Flow\" data-toc-modified-id=\"If---Elif---Else-Condition-Flow-7.2\">If - Elif - Else Condition Flow</a></span><ul class=\"toc-item\"><li><span><a href=\"#Now-let's-put-these-conditions-into-a-function\" data-toc-modified-id=\"Now-let's-put-these-conditions-into-a-function-7.2.1\">Now let's put these conditions into a function</a></span></li></ul></li></ul></li><li><span><a href=\"#Introduction-to-Pandas\" data-toc-modified-id=\"Introduction-to-Pandas-8\">Introduction to Pandas</a></span><ul class=\"toc-item\"><li><span><a href=\"#Pandas-DataFrame\" data-toc-modified-id=\"Pandas-DataFrame-8.1\">Pandas DataFrame</a></span></li><li><span><a href=\"#Pandas-Input-Data-Types\" data-toc-modified-id=\"Pandas-Input-Data-Types-8.2\">Pandas Input Data Types</a></span><ul class=\"toc-item\"><li><span><a href=\"#Reading-and-Writing-Pandas-Data\" data-toc-modified-id=\"Reading-and-Writing-Pandas-Data-8.2.1\">Reading and Writing Pandas Data</a></span><ul class=\"toc-item\"><li><span><a href=\"#Let's-import-the-pandas-library-as-pd\" data-toc-modified-id=\"Let's-import-the-pandas-library-as-pd-8.2.1.1\">Let's import the <code>pandas</code> library as <code>pd</code></a></span></li></ul></li><li><span><a href=\"#Let's-work-with-some-real-world-data!!!\" data-toc-modified-id=\"Let's-work-with-some-real-world-data!!!-8.2.2\">Let's work with some real-world data!!!</a></span></li></ul></li><li><span><a href=\"#US-Hospitals-Data\" data-toc-modified-id=\"US-Hospitals-Data-8.3\">US Hospitals Data</a></span></li></ul></li><li><span><a href=\"#Geopandas\" data-toc-modified-id=\"Geopandas-9\">Geopandas</a></span><ul class=\"toc-item\"><li><ul class=\"toc-item\"><li><span><a href=\"#Geopandas-Description\" data-toc-modified-id=\"Geopandas-Description-9.0.1\">Geopandas Description</a></span><ul class=\"toc-item\"><li><span><a href=\"#Geopandas-Installation\" data-toc-modified-id=\"Geopandas-Installation-9.0.1.1\">Geopandas Installation</a></span></li></ul></li><li><span><a href=\"#(THREAD)-Where-have-we-seen-this-POINT-(-...-)-thing-before???\" data-toc-modified-id=\"(THREAD)-Where-have-we-seen-this-POINT-(-...-)-thing-before???-9.0.2\">(THREAD) Where have we seen this <code>POINT ( ... )</code> thing before???</a></span><ul class=\"toc-item\"><li><span><a href=\"#You-can-now-take-a-look-at-our-file-in-QGIS-or-some-other-package!\" data-toc-modified-id=\"You-can-now-take-a-look-at-our-file-in-QGIS-or-some-other-package!-9.0.2.1\">You can now take a look at our file in QGIS or some other package!</a></span></li></ul></li><li><span><a href=\"#Plotting-Hospitals-on-Leaflet\" data-toc-modified-id=\"Plotting-Hospitals-on-Leaflet-9.0.3\">Plotting Hospitals on Leaflet</a></span></li><li><span><a href=\"#See-a-version-of-the-map-here:\" data-toc-modified-id=\"See-a-version-of-the-map-here:-9.0.4\">See a version of the map here:</a></span></li></ul></li></ul></li></ul></div>"
   ]
  },
  {
   "cell_type": "markdown",
   "metadata": {},
   "source": [
    "# Learning Objectives\n",
    "\n",
    "* Spatial Data Models\n",
    "* If-Elif-Else Conditionals  \n",
    "* Introduction to Pandas\n",
    "* Introduction to GeoPandas\n"
   ]
  },
  {
   "cell_type": "markdown",
   "metadata": {},
   "source": [
    "\n",
    "### Fork this Lesson Repo\n",
    "\n",
    "https://github.com/pratt-savi-810/pratt-savi-810-2020-03-lesson_03\n"
   ]
  },
  {
   "cell_type": "markdown",
   "metadata": {},
   "source": [
    "# A quick overview of Terminal\n",
    "\n",
    "\n",
    "##### Going forward let's install libraries at the commandline. \n",
    "\n",
    "#### Open Your Terminal \n",
    "\n",
    "##### Mac\n",
    "\n",
    "To open Terminal.app on your Mac hit COMMAND + SPACE for search, then type `Terminal` to search for and open. Or go to `Applications/Utilities/Terminal.app`.\n",
    "\n",
    "![terminal_mac](https://cdn.macpaw.com/uploads/images/Screen%20Shot%202018-10-17%20at%2018.14.23.png)\n",
    "_Terminal app on Mac_\n",
    "\n",
    "\n",
    "##### Windows\n",
    "\n",
    "For Windows you can use [Powershell](https://docs.microsoft.com/en-us/powershell/scripting/getting-started/getting-started-with-windows-powershell?view=powershell-7) or the Anaconda Powershell install app\n",
    "\n",
    "![powershell_anaconda](https://www.anaconda.com/wp-content/uploads/2020/03/Navigator-screenshot-1024x551.png)\n",
    "_Anaconda has its own Powershell app_\n",
    "\n",
    "# Geospatial Data Models \n",
    "\n",
    "\n",
    "### Install GeoPandas\n",
    "\n",
    "\n",
    "#### Command to Install Geopandas\n",
    "\n",
    "**Make sure you are in the correct [Conda virtual environment](https://docs.conda.io/projects/conda/en/latest/user-guide/concepts/environments.html) (here we are using `geospatial`.)**\n",
    "\n",
    "```\n",
    "(geospatial) $ conda install geopandas \n",
    "```\n",
    "\n",
    "> A data model is a way of defining and representing real world surfaces and characteristics in GIS. There are two primary types of spatial data models: Vector and Raster.\n",
    "  * Vector data represents features as discrete points, lines, and polygons\n",
    "  * Raster data represents features as a rectangular matrix of square cells (pixels)\n",
    "    \n",
    "    Source: http://gsp.humboldt.edu/OLM/Courses/GSP_216_Online/lesson3-1/data-models.html\n",
    "\n",
    "\n",
    "## Geospatial Data Models \n",
    "\n",
    "### Vector Data Model\n",
    "\n",
    "> Vector data is very common, and is often used to represent features like roads and boundaries. Vector data comes in the form of points and lines that are geometrically and mathematically associated.  \n",
    "\n",
    "> * Points:\n",
    "    * One pair of coordinates defines the location of a point feature.\n",
    "    * Individual X,Y\n",
    "\n",
    "> * Polylines (LineStrings):\n",
    "    * Two or more pairs of coordinates that are connected define a line feature.\n",
    "    * A series of connected points - Actually, a set of series of connected points.\n",
    "\n",
    "> * Polygons:\n",
    "    * Multiple pairs of coordinates that are connected and closed define a polygon feature.\n",
    "    * A series of connected points that loop back to the first point\n",
    "      * Multiple \"polygons\" can exist in one layer\n",
    "      * Polygons can have internal polygons or \"holes\"\n",
    "      * The beginning and ending coordinates for a polygon are the same.\n",
    "      \n",
    "      Source: http://gsp.humboldt.edu/OLM/Courses/GSP_216_Online/lesson3-1/data-models.html\n",
    "\n",
    "\n",
    "\n",
    "### Shapely\n",
    "One dependency (another Python Library GeoPandas depends on) is [Shapely](https://shapely.readthedocs.io/en/latest/manual.html)\n",
    "\n",
    "> Deterministic spatial analysis is an important component of computational approaches to problems in agriculture, ecology, epidemiology, sociology, and many other fields. What is the surveyed perimeter/area ratio of these patches of animal habitat? Which properties in this town intersect with the 50-year flood contour from this new flooding model? What are the extents of findspots for ancient ceramic wares with maker’s marks “A” and “B”, and where do the extents overlap? What’s the path from home to office that best skirts identified zones of location based spam? These are just a few of the possible questions addressable using non-statistical spatial analysis, and more specifically, computational geometry.\n",
    "\n",
    "> Shapely is a Python package for set-theoretic analysis and manipulation of planar features using (via Python’s ctypes module) functions from the well known and widely deployed GEOS library. GEOS, a port of the Java Topology Suite (JTS), is the geometry engine of the PostGIS spatial extension for the PostgreSQL RDBMS. The designs of JTS and GEOS are largely guided by the Open Geospatial Consortium’s Simple Features Access Specification 1 and Shapely adheres mainly to the same set of standard classes and operations. Shapely is thereby deeply rooted in the conventions of the geographic information systems (GIS) world, but aspires to be equally useful to programmers working on non-conventional problems.\n",
    "\n",
    "> The first premise of Shapely is that Python programmers should be able to perform PostGIS type geometry operations outside of an RDBMS. Not all geographic data originate or reside in a RDBMS or are best processed using SQL. We can load data into a spatial RDBMS to do work, but if there’s no mandate to manage (the “M” in “RDBMS”) the data over time in the database we’re using the wrong tool for the job. The second premise is that the persistence, serialization, and map projection of features are significant, but orthogonal problems. You may not need a hundred GIS format readers and writers or the multitude of State Plane projections, and Shapely doesn’t burden you with them. The third premise is that Python idioms trump GIS (or Java, in this case, since the GEOS library is derived from JTS, a Java project) idioms.\n",
    "\n",
    "> If you enjoy and profit from idiomatic Python, appreciate packages that do one thing well, and agree that a spatially enabled RDBMS is often enough the wrong tool for your computational geometry job, Shapely might be for you. Source: https://shapely.readthedocs.io/en/latest/manual.html\n",
    "\n"
   ]
  },
  {
   "cell_type": "markdown",
   "metadata": {},
   "source": [
    "### Points"
   ]
  },
  {
   "cell_type": "code",
   "execution_count": 85,
   "metadata": {},
   "outputs": [
    {
     "name": "stdout",
     "output_type": "stream",
     "text": [
      "Requirement already satisfied: matplotlib in /Users/danielmsheehan/opt/anaconda3/envs/dsi/lib/python3.7/site-packages (3.1.3)\n",
      "Requirement already satisfied: kiwisolver>=1.0.1 in /Users/danielmsheehan/opt/anaconda3/envs/dsi/lib/python3.7/site-packages (from matplotlib) (1.1.0)\n",
      "Requirement already satisfied: cycler>=0.10 in /Users/danielmsheehan/opt/anaconda3/envs/dsi/lib/python3.7/site-packages (from matplotlib) (0.10.0)\n",
      "Requirement already satisfied: numpy>=1.11 in /Users/danielmsheehan/opt/anaconda3/envs/dsi/lib/python3.7/site-packages (from matplotlib) (1.17.2)\n",
      "Requirement already satisfied: python-dateutil>=2.1 in /Users/danielmsheehan/opt/anaconda3/envs/dsi/lib/python3.7/site-packages (from matplotlib) (2.8.0)\n",
      "Requirement already satisfied: pyparsing!=2.0.4,!=2.1.2,!=2.1.6,>=2.0.1 in /Users/danielmsheehan/opt/anaconda3/envs/dsi/lib/python3.7/site-packages (from matplotlib) (2.4.2)\n",
      "Requirement already satisfied: setuptools in /Users/danielmsheehan/opt/anaconda3/envs/dsi/lib/python3.7/site-packages (from kiwisolver>=1.0.1->matplotlib) (41.4.0)\n",
      "Requirement already satisfied: six in /Users/danielmsheehan/opt/anaconda3/envs/dsi/lib/python3.7/site-packages (from cycler>=0.10->matplotlib) (1.12.0)\n"
     ]
    }
   ],
   "source": [
    "!pip install matplotlib"
   ]
  },
  {
   "cell_type": "code",
   "execution_count": 90,
   "metadata": {},
   "outputs": [],
   "source": [
    "from shapely.geometry import Point\n",
    "import matplotlib.pyplot as plt"
   ]
  },
  {
   "cell_type": "markdown",
   "metadata": {},
   "source": [
    "##### Matplotlib inline\n",
    "https://stackoverflow.com/questions/43027980/purpose-of-matplotlib-inline"
   ]
  },
  {
   "cell_type": "code",
   "execution_count": 92,
   "metadata": {},
   "outputs": [],
   "source": [
    "%matplotlib inline  \n",
    "\n",
    "# jupyter notebook magic command"
   ]
  },
  {
   "cell_type": "code",
   "execution_count": 94,
   "metadata": {},
   "outputs": [
    {
     "data": {
      "image/svg+xml": [
       "<svg xmlns=\"http://www.w3.org/2000/svg\" xmlns:xlink=\"http://www.w3.org/1999/xlink\" width=\"100.0\" height=\"100.0\" viewBox=\"-1.0 -1.0 2.0 2.0\" preserveAspectRatio=\"xMinYMin meet\"><g transform=\"matrix(1,0,0,-1,0,0.0)\"><circle cx=\"0.0\" cy=\"0.0\" r=\"0.06\" stroke=\"#555555\" stroke-width=\"0.02\" fill=\"#66cc99\" opacity=\"0.6\" /></g></svg>"
      ],
      "text/plain": [
       "<shapely.geometry.point.Point at 0x7fd7da1402d0>"
      ]
     },
     "execution_count": 94,
     "metadata": {},
     "output_type": "execute_result"
    }
   ],
   "source": [
    "point_1 = Point(0.0, 0.0)\n",
    "point_1"
   ]
  },
  {
   "cell_type": "code",
   "execution_count": 95,
   "metadata": {},
   "outputs": [
    {
     "data": {
      "image/svg+xml": [
       "<svg xmlns=\"http://www.w3.org/2000/svg\" xmlns:xlink=\"http://www.w3.org/1999/xlink\" width=\"100.0\" height=\"100.0\" viewBox=\"44.0 99.0 2.0 2.0\" preserveAspectRatio=\"xMinYMin meet\"><g transform=\"matrix(1,0,0,-1,0,200.0)\"><circle cx=\"45.0\" cy=\"100.0\" r=\"0.06\" stroke=\"#555555\" stroke-width=\"0.02\" fill=\"#66cc99\" opacity=\"0.6\" /></g></svg>"
      ],
      "text/plain": [
       "<shapely.geometry.point.Point at 0x7fd7da1453d0>"
      ]
     },
     "execution_count": 95,
     "metadata": {},
     "output_type": "execute_result"
    }
   ],
   "source": [
    "point_2 = Point(45.0, 100.0)   # Point(x, y)\n",
    "point_2"
   ]
  },
  {
   "cell_type": "code",
   "execution_count": 96,
   "metadata": {},
   "outputs": [
    {
     "data": {
      "image/png": "[encoded data removed]",
      "text/plain": [
       "<Figure size 432x288 with 1 Axes>"
      ]
     },
     "metadata": {
      "needs_background": "light"
     },
     "output_type": "display_data"
    }
   ],
   "source": [
    "p_1x, p_1y = point_1.xy\n",
    "p_2x, p_2y = point_2.xy\n",
    "\n",
    "plt.scatter(p_1x, p_1y)\n",
    "plt.scatter(p_2x, p_2y)\n",
    "plt.show();"
   ]
  },
  {
   "cell_type": "markdown",
   "metadata": {},
   "source": [
    "### Lines - (LineString)"
   ]
  },
  {
   "cell_type": "code",
   "execution_count": 97,
   "metadata": {},
   "outputs": [],
   "source": [
    "from shapely.geometry import LineString"
   ]
  },
  {
   "cell_type": "code",
   "execution_count": 101,
   "metadata": {},
   "outputs": [
    {
     "data": {
      "image/svg+xml": [
       "<svg xmlns=\"http://www.w3.org/2000/svg\" xmlns:xlink=\"http://www.w3.org/1999/xlink\" width=\"100.0\" height=\"100.0\" viewBox=\"-0.24 -0.24 3.4800000000000004 6.48\" preserveAspectRatio=\"xMinYMin meet\"><g transform=\"matrix(1,0,0,-1,0,6.0)\"><polyline fill=\"none\" stroke=\"#66cc99\" stroke-width=\"0.12960000000000002\" points=\"0.0,0.0 2.0,2.0 3.0,6.0\" opacity=\"0.8\" /></g></svg>"
      ],
      "text/plain": [
       "<shapely.geometry.linestring.LineString at 0x7fd7da163390>"
      ]
     },
     "execution_count": 101,
     "metadata": {},
     "output_type": "execute_result"
    }
   ],
   "source": [
    "line = LineString(\n",
    "    [\n",
    "        (0, 0),\n",
    "        (2, 2),\n",
    "        (3, 6)\n",
    "    ]\n",
    ")  # linestring accepts a list of tuples - tuples being the coordinate pair\n",
    "line"
   ]
  },
  {
   "cell_type": "code",
   "execution_count": 114,
   "metadata": {},
   "outputs": [],
   "source": [
    "a = LineString([(0, 0), (1, 1), (1,2), (2,2)])\n",
    "b = LineString([(0, 0), (1, 1), (2,1), (2,2)])"
   ]
  },
  {
   "cell_type": "code",
   "execution_count": 115,
   "metadata": {},
   "outputs": [
    {
     "data": {
      "image/svg+xml": [
       "<svg xmlns=\"http://www.w3.org/2000/svg\" xmlns:xlink=\"http://www.w3.org/1999/xlink\" width=\"100.0\" height=\"100.0\" viewBox=\"-0.08 -0.08 2.16 2.16\" preserveAspectRatio=\"xMinYMin meet\"><g transform=\"matrix(1,0,0,-1,0,2.0)\"><polyline fill=\"none\" stroke=\"#66cc99\" stroke-width=\"0.0432\" points=\"0.0,0.0 1.0,1.0 1.0,2.0 2.0,2.0\" opacity=\"0.8\" /></g></svg>"
      ],
      "text/plain": [
       "<shapely.geometry.linestring.LineString at 0x7fd7da16af90>"
      ]
     },
     "execution_count": 115,
     "metadata": {},
     "output_type": "execute_result"
    }
   ],
   "source": [
    "a"
   ]
  },
  {
   "cell_type": "code",
   "execution_count": 116,
   "metadata": {},
   "outputs": [
    {
     "data": {
      "image/svg+xml": [
       "<svg xmlns=\"http://www.w3.org/2000/svg\" xmlns:xlink=\"http://www.w3.org/1999/xlink\" width=\"100.0\" height=\"100.0\" viewBox=\"-0.08 -0.08 2.16 2.16\" preserveAspectRatio=\"xMinYMin meet\"><g transform=\"matrix(1,0,0,-1,0,2.0)\"><polyline fill=\"none\" stroke=\"#66cc99\" stroke-width=\"0.0432\" points=\"0.0,0.0 1.0,1.0 2.0,1.0 2.0,2.0\" opacity=\"0.8\" /></g></svg>"
      ],
      "text/plain": [
       "<shapely.geometry.linestring.LineString at 0x7fd7da16af10>"
      ]
     },
     "execution_count": 116,
     "metadata": {},
     "output_type": "execute_result"
    }
   ],
   "source": [
    "b"
   ]
  },
  {
   "cell_type": "markdown",
   "metadata": {},
   "source": [
    "### Intersection of Two LineString Objects"
   ]
  },
  {
   "cell_type": "code",
   "execution_count": 117,
   "metadata": {},
   "outputs": [
    {
     "data": {
      "image/svg+xml": [
       "<svg xmlns=\"http://www.w3.org/2000/svg\" xmlns:xlink=\"http://www.w3.org/1999/xlink\" width=\"100.0\" height=\"100.0\" viewBox=\"-0.08 -0.08 2.16 2.16\" preserveAspectRatio=\"xMinYMin meet\"><g transform=\"matrix(1,0,0,-1,0,2.0)\"><g><circle cx=\"2.0\" cy=\"2.0\" r=\"0.0648\" stroke=\"#555555\" stroke-width=\"0.0216\" fill=\"#66cc99\" opacity=\"0.6\" /><polyline fill=\"none\" stroke=\"#66cc99\" stroke-width=\"0.0432\" points=\"0.0,0.0 1.0,1.0\" opacity=\"0.8\" /></g></g></svg>"
      ],
      "text/plain": [
       "<shapely.geometry.collection.GeometryCollection at 0x7fd7da16bd50>"
      ]
     },
     "execution_count": 117,
     "metadata": {},
     "output_type": "execute_result"
    }
   ],
   "source": [
    "# geoprocessing operation\n",
    "\n",
    "x = a.intersection(b)\n",
    "\n",
    "x"
   ]
  },
  {
   "cell_type": "markdown",
   "metadata": {},
   "source": [
    "### Polygons"
   ]
  },
  {
   "cell_type": "code",
   "execution_count": 119,
   "metadata": {},
   "outputs": [],
   "source": [
    "from shapely.geometry import Polygon"
   ]
  },
  {
   "cell_type": "code",
   "execution_count": 123,
   "metadata": {},
   "outputs": [],
   "source": [
    "# c = Polygon([(1, 1), (-1, 3), (3, 3), (3, 1)])"
   ]
  },
  {
   "cell_type": "code",
   "execution_count": 124,
   "metadata": {},
   "outputs": [],
   "source": [
    "c = Polygon([[1, 1], [-1, 3], [3, 3], [3, 1]])\n",
    "d = Polygon([[0, 0], [0, 4], [4, 4], [4, 0]])"
   ]
  },
  {
   "cell_type": "code",
   "execution_count": 125,
   "metadata": {},
   "outputs": [
    {
     "data": {
      "image/svg+xml": [
       "<svg xmlns=\"http://www.w3.org/2000/svg\" xmlns:xlink=\"http://www.w3.org/1999/xlink\" width=\"100.0\" height=\"100.0\" viewBox=\"-1.16 0.84 4.32 2.3200000000000003\" preserveAspectRatio=\"xMinYMin meet\"><g transform=\"matrix(1,0,0,-1,0,4.0)\"><path fill-rule=\"evenodd\" fill=\"#66cc99\" stroke=\"#555555\" stroke-width=\"0.0864\" opacity=\"0.6\" d=\"M 1.0,1.0 L -1.0,3.0 L 3.0,3.0 L 3.0,1.0 L 1.0,1.0 z\" /></g></svg>"
      ],
      "text/plain": [
       "<shapely.geometry.polygon.Polygon at 0x7fd7da15f410>"
      ]
     },
     "execution_count": 125,
     "metadata": {},
     "output_type": "execute_result"
    }
   ],
   "source": [
    "c"
   ]
  },
  {
   "cell_type": "code",
   "execution_count": 126,
   "metadata": {},
   "outputs": [
    {
     "data": {
      "image/svg+xml": [
       "<svg xmlns=\"http://www.w3.org/2000/svg\" xmlns:xlink=\"http://www.w3.org/1999/xlink\" width=\"100.0\" height=\"100.0\" viewBox=\"-0.16 -0.16 4.32 4.32\" preserveAspectRatio=\"xMinYMin meet\"><g transform=\"matrix(1,0,0,-1,0,4.0)\"><path fill-rule=\"evenodd\" fill=\"#66cc99\" stroke=\"#555555\" stroke-width=\"0.0864\" opacity=\"0.6\" d=\"M 0.0,0.0 L 0.0,4.0 L 4.0,4.0 L 4.0,0.0 L 0.0,0.0 z\" /></g></svg>"
      ],
      "text/plain": [
       "<shapely.geometry.polygon.Polygon at 0x7fd7da15fc90>"
      ]
     },
     "execution_count": 126,
     "metadata": {},
     "output_type": "execute_result"
    }
   ],
   "source": [
    "d"
   ]
  },
  {
   "cell_type": "code",
   "execution_count": 127,
   "metadata": {},
   "outputs": [
    {
     "data": {
      "image/svg+xml": [
       "<svg xmlns=\"http://www.w3.org/2000/svg\" xmlns:xlink=\"http://www.w3.org/1999/xlink\" width=\"100.0\" height=\"100.0\" viewBox=\"-0.12 0.88 3.24 2.24\" preserveAspectRatio=\"xMinYMin meet\"><g transform=\"matrix(1,0,0,-1,0,4.0)\"><path fill-rule=\"evenodd\" fill=\"#66cc99\" stroke=\"#555555\" stroke-width=\"0.06480000000000001\" opacity=\"0.6\" d=\"M 1.0,1.0 L 0.0,2.0 L 0.0,3.0 L 3.0,3.0 L 3.0,1.0 L 1.0,1.0 z\" /></g></svg>"
      ],
      "text/plain": [
       "<shapely.geometry.polygon.Polygon at 0x7fd7da2afa90>"
      ]
     },
     "execution_count": 127,
     "metadata": {},
     "output_type": "execute_result"
    }
   ],
   "source": [
    "z = c.intersection(d)\n",
    "z"
   ]
  },
  {
   "cell_type": "markdown",
   "metadata": {},
   "source": [
    "#### MultiPoint "
   ]
  },
  {
   "cell_type": "code",
   "execution_count": 17,
   "metadata": {},
   "outputs": [],
   "source": [
    "from shapely.geometry import MultiPoint"
   ]
  },
  {
   "cell_type": "code",
   "execution_count": 128,
   "metadata": {},
   "outputs": [
    {
     "data": {
      "image/svg+xml": [
       "<svg xmlns=\"http://www.w3.org/2000/svg\" xmlns:xlink=\"http://www.w3.org/1999/xlink\" width=\"100.0\" height=\"100.0\" viewBox=\"-0.08 -1.08 1.1600000000000001 2.16\" preserveAspectRatio=\"xMinYMin meet\"><g transform=\"matrix(1,0,0,-1,0,0.0)\"><g><circle cx=\"0.0\" cy=\"0.0\" r=\"0.0648\" stroke=\"#555555\" stroke-width=\"0.0216\" fill=\"#66cc99\" opacity=\"0.6\" /><circle cx=\"1.0\" cy=\"1.0\" r=\"0.0648\" stroke=\"#555555\" stroke-width=\"0.0216\" fill=\"#66cc99\" opacity=\"0.6\" /><circle cx=\"1.0\" cy=\"-1.0\" r=\"0.0648\" stroke=\"#555555\" stroke-width=\"0.0216\" fill=\"#66cc99\" opacity=\"0.6\" /></g></g></svg>"
      ],
      "text/plain": [
       "<shapely.geometry.multipoint.MultiPoint at 0x7fd7da2ef050>"
      ]
     },
     "execution_count": 128,
     "metadata": {},
     "output_type": "execute_result"
    }
   ],
   "source": [
    "e = MultiPoint(\n",
    "    [\n",
    "        (0, 0),\n",
    "        (1, 1),\n",
    "        (1, -1), \n",
    "    ]\n",
    ")\n",
    "e"
   ]
  },
  {
   "cell_type": "code",
   "execution_count": 129,
   "metadata": {},
   "outputs": [
    {
     "data": {
      "image/svg+xml": [
       "<svg xmlns=\"http://www.w3.org/2000/svg\" xmlns:xlink=\"http://www.w3.org/1999/xlink\" width=\"100.0\" height=\"100.0\" viewBox=\"-0.08 -1.08 1.1600000000000001 2.16\" preserveAspectRatio=\"xMinYMin meet\"><g transform=\"matrix(1,0,0,-1,0,0.0)\"><path fill-rule=\"evenodd\" fill=\"#66cc99\" stroke=\"#555555\" stroke-width=\"0.0432\" opacity=\"0.6\" d=\"M 1.0,-1.0 L 0.0,0.0 L 1.0,1.0 L 1.0,-1.0 z\" /></g></svg>"
      ],
      "text/plain": [
       "<shapely.geometry.polygon.Polygon at 0x7fd7da825950>"
      ]
     },
     "execution_count": 129,
     "metadata": {},
     "output_type": "execute_result"
    }
   ],
   "source": [
    "# minimum bounding geometry\n",
    "e.convex_hull "
   ]
  },
  {
   "cell_type": "markdown",
   "metadata": {},
   "source": [
    "## Folium (Python - Leaflet) Mapping Example\n",
    "\n",
    "#### First let's pip install folium. \n",
    "Or you can try `conda`. \n",
    "\n",
    "```\n",
    "$ pip install folium\n",
    "```"
   ]
  },
  {
   "cell_type": "code",
   "execution_count": 132,
   "metadata": {},
   "outputs": [],
   "source": [
    "!pip install folium"
   ]
  },
  {
   "cell_type": "code",
   "execution_count": 133,
   "metadata": {},
   "outputs": [],
   "source": [
    "import folium "
   ]
  },
  {
   "cell_type": "code",
   "execution_count": 144,
   "metadata": {
    "scrolled": true
   },
   "outputs": [
    {
     "data": {
      "text/html": [
       "<div style=\"width:100%;\"><div style=\"position:relative;width:100%;height:0;padding-bottom:60%;\"><iframe src=\"data:text/html;charset=utf-8;base64,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\" style=\"position:absolute;width:100%;height:100%;left:0;top:0;border:none !important;\" allowfullscreen webkitallowfullscreen mozallowfullscreen></iframe></div></div>"
      ],
      "text/plain": [
       "<folium.folium.Map at 0x7fd7da8a81d0>"
      ]
     },
     "execution_count": 144,
     "metadata": {},
     "output_type": "execute_result"
    }
   ],
   "source": [
    "m = folium.Map(\n",
    "    location=[45.372, -121.6972], \n",
    "    zoom_start=2,   # web mapping, world = 1, zoomed in = 18, 20\n",
    "    tiles='Stamen Terrain', \n",
    ")  # created a map\n",
    "\n",
    "folium.Marker(\n",
    "    [63.0690, -151.0063], \n",
    "    popup='<i>Denali</i>'\n",
    ").add_to(m)\n",
    "\n",
    "folium.Marker(\n",
    "    [36.5786, -118.2920], \n",
    "    popup='<i>Mount Whitney</i>'\n",
    ").add_to(m)\n",
    "\n",
    "m"
   ]
  },
  {
   "cell_type": "markdown",
   "metadata": {},
   "source": [
    "#### Now let's save this Leaflet map as an html webpage. "
   ]
  },
  {
   "cell_type": "code",
   "execution_count": 145,
   "metadata": {},
   "outputs": [],
   "source": [
    "m.save('folium.html')"
   ]
  },
  {
   "cell_type": "markdown",
   "metadata": {},
   "source": [
    "# Finishing up From Lecture 02"
   ]
  },
  {
   "cell_type": "markdown",
   "metadata": {},
   "source": [
    "## Python Functions Quick Review\n",
    "\n",
    "\n",
    "### Define your own Python Functions\n",
    "\n",
    "\n",
    "Use `def` prior to your function name, and follow with a colon to close in the function. \n",
    "\n",
    "### Python Package US - US state meta information\n",
    "\n",
    "> A package for easily working with US and state metadata. \n",
    "* all US states and territories\n",
    "* postal abbreviations\n",
    "* Associated Press style abbreviations\n",
    "* FIPS codes\n",
    "* capitals\n",
    "* years of statehood\n",
    "* time zones\n",
    "* phonetic state name lookup\n",
    "* is contiguous or continental\n",
    "* URLs to shapefiles for state, census, congressional districts,\n",
    "  counties, and census tracts - Source: https://pypi.org/project/us/"
   ]
  },
  {
   "cell_type": "code",
   "execution_count": 147,
   "metadata": {},
   "outputs": [
    {
     "name": "stdout",
     "output_type": "stream",
     "text": [
      "Requirement already satisfied: us in /Users/danielmsheehan/opt/anaconda3/envs/dsi/lib/python3.7/site-packages (1.0.0)\r\n",
      "Requirement already satisfied: jellyfish==0.5.6 in /Users/danielmsheehan/opt/anaconda3/envs/dsi/lib/python3.7/site-packages (from us) (0.5.6)\r\n"
     ]
    }
   ],
   "source": [
    "!pip install us"
   ]
  },
  {
   "cell_type": "code",
   "execution_count": 151,
   "metadata": {},
   "outputs": [],
   "source": [
    "import us"
   ]
  },
  {
   "cell_type": "code",
   "execution_count": 152,
   "metadata": {},
   "outputs": [
    {
     "data": {
      "text/plain": [
       "<State:New York>"
      ]
     },
     "execution_count": 152,
     "metadata": {},
     "output_type": "execute_result"
    }
   ],
   "source": [
    "us.states.NY"
   ]
  },
  {
   "cell_type": "code",
   "execution_count": 153,
   "metadata": {},
   "outputs": [
    {
     "data": {
      "text/plain": [
       "'New York'"
      ]
     },
     "execution_count": 153,
     "metadata": {},
     "output_type": "execute_result"
    }
   ],
   "source": [
    "us.states.NY.name"
   ]
  },
  {
   "cell_type": "code",
   "execution_count": 156,
   "metadata": {},
   "outputs": [
    {
     "data": {
      "text/plain": [
       "'America/New_York'"
      ]
     },
     "execution_count": 156,
     "metadata": {},
     "output_type": "execute_result"
    }
   ],
   "source": [
    "# get fips code\n",
    "us.states.NY.capital_tz"
   ]
  },
  {
   "cell_type": "code",
   "execution_count": 157,
   "metadata": {},
   "outputs": [
    {
     "data": {
      "text/plain": [
       "'36'"
      ]
     },
     "execution_count": 157,
     "metadata": {},
     "output_type": "execute_result"
    }
   ],
   "source": [
    "us.states.NY.fips"
   ]
  },
  {
   "cell_type": "code",
   "execution_count": 162,
   "metadata": {},
   "outputs": [
    {
     "data": {
      "text/plain": [
       "'https://www2.census.gov/geo/tiger/TIGER2010/CD/111/tl_2010_36_cd111.zip'"
      ]
     },
     "execution_count": 162,
     "metadata": {},
     "output_type": "execute_result"
    }
   ],
   "source": [
    "# can access the shapefile url for ny state counties. \n",
    "us.states.NY.shapefile_urls('cd')"
   ]
  },
  {
   "cell_type": "markdown",
   "metadata": {},
   "source": [
    "### Python function Print vs. Return\n",
    "\n",
    "> **`print`** just shows the human user a string representing what is going on inside the computer. The computer cannot make use of that printing. **`return`** is how a function gives back a value. This value is often unseen by the human user, but it can be used by the computer in further functions. Source: https://www.codecademy.com/forum_questions/518ffbfeb3f05c44fe001395"
   ]
  },
  {
   "cell_type": "code",
   "execution_count": 163,
   "metadata": {},
   "outputs": [],
   "source": [
    "def get_state_fips(abbrev):\n",
    "    state_obj = us.states.lookup(abbrev)\n",
    "    fips_code = state_obj.fips\n",
    "    print(fips_code)"
   ]
  },
  {
   "cell_type": "code",
   "execution_count": 164,
   "metadata": {},
   "outputs": [
    {
     "name": "stdout",
     "output_type": "stream",
     "text": [
      "34\n"
     ]
    }
   ],
   "source": [
    "get_state_fips('NJ')  # New Jersey"
   ]
  },
  {
   "cell_type": "code",
   "execution_count": 166,
   "metadata": {},
   "outputs": [
    {
     "name": "stdout",
     "output_type": "stream",
     "text": [
      "09\n"
     ]
    }
   ],
   "source": [
    "nj_fips = get_state_fips('CT')"
   ]
  },
  {
   "cell_type": "code",
   "execution_count": 170,
   "metadata": {},
   "outputs": [
    {
     "data": {
      "text/plain": [
       "NoneType"
      ]
     },
     "execution_count": 170,
     "metadata": {},
     "output_type": "execute_result"
    }
   ],
   "source": [
    "# b/c its print, f is meaningless\n",
    "type(nj_fips)"
   ]
  },
  {
   "cell_type": "code",
   "execution_count": 182,
   "metadata": {},
   "outputs": [],
   "source": [
    "def get_state_fips(abbrev):\n",
    "    state_obj = us.states.lookup(abbrev)\n",
    "    fips_code = state_obj.fips\n",
    "    \n",
    "    return fips_code + f' is the fips for {abbrev}'"
   ]
  },
  {
   "cell_type": "code",
   "execution_count": 185,
   "metadata": {},
   "outputs": [
    {
     "data": {
      "text/plain": [
       "'34 is the fips for NJ'"
      ]
     },
     "execution_count": 185,
     "metadata": {},
     "output_type": "execute_result"
    }
   ],
   "source": [
    "nj_fips = get_state_fips('NJ')\n",
    "nj_fips"
   ]
  },
  {
   "cell_type": "markdown",
   "metadata": {},
   "source": [
    "## If - Elif - Else Condition Flow\n",
    "\n",
    "Let's say we have a variable called speed, which is your driving speed. "
   ]
  },
  {
   "cell_type": "code",
   "execution_count": 195,
   "metadata": {},
   "outputs": [],
   "source": [
    "s = 80  # speed"
   ]
  },
  {
   "cell_type": "code",
   "execution_count": 194,
   "metadata": {},
   "outputs": [
    {
     "name": "stdout",
     "output_type": "stream",
     "text": [
      "You're below the speed limit\n"
     ]
    }
   ],
   "source": [
    "# if s >= 70:  # where s = 85, this is true\n",
    "#     print(\"Slow Down - you're breaking the speed limit\")\n",
    "# else:\n",
    "#     print(\"You're below the speed limit\")\n",
    "    "
   ]
  },
  {
   "cell_type": "code",
   "execution_count": 199,
   "metadata": {},
   "outputs": [
    {
     "name": "stdout",
     "output_type": "stream",
     "text": [
      "Slow Down - you're breaking the speed limit\n"
     ]
    }
   ],
   "source": [
    "if s >= 70:  # where s = 85, this is true\n",
    "    print(\"Slow Down - you're breaking the speed limit\")\n",
    "elif s >= 50:\n",
    "    print(\"You're driving b/n 50 mph and 69\")\n",
    "elif s >= 30:  # Is true, when s = 40\n",
    "    print(\"You're going b/n 30 and 50\")\n",
    "else:\n",
    "    print(\"You're stoppped, on a local street or in traffic\")\n",
    "    "
   ]
  },
  {
   "cell_type": "markdown",
   "metadata": {},
   "source": [
    "### Now let's put these conditions into a function"
   ]
  },
  {
   "cell_type": "code",
   "execution_count": 209,
   "metadata": {},
   "outputs": [],
   "source": [
    "def speed_function(s):\n",
    "    if s >= 70:  # where s = 85, this is true\n",
    "        print(\"Slow Down - you're breaking the speed limit\")\n",
    "    elif s >= 50:\n",
    "        print(\"You're driving b/n 50 mph and 69\")\n",
    "    elif s >= 30:  # Is true, when s = 40\n",
    "        print(\"You're going b/n 30 and 50\")\n",
    "    elif type(s) == str:\n",
    "        print('THIS IS NOT A INT')\n",
    "    \n",
    "    else:\n",
    "        print(\"You're stoppped, on a local street or in traffic\")\n",
    "    "
   ]
  },
  {
   "cell_type": "code",
   "execution_count": 210,
   "metadata": {},
   "outputs": [
    {
     "name": "stdout",
     "output_type": "stream",
     "text": [
      "You're stoppped, on a local street or in traffic\n"
     ]
    }
   ],
   "source": [
    "speed_function(10)"
   ]
  },
  {
   "cell_type": "code",
   "execution_count": 211,
   "metadata": {},
   "outputs": [
    {
     "name": "stdout",
     "output_type": "stream",
     "text": [
      "Slow Down - you're breaking the speed limit\n"
     ]
    }
   ],
   "source": [
    "speed_function(100)"
   ]
  },
  {
   "cell_type": "code",
   "execution_count": 212,
   "metadata": {},
   "outputs": [
    {
     "name": "stdout",
     "output_type": "stream",
     "text": [
      "You're going b/n 30 and 50\n"
     ]
    }
   ],
   "source": [
    "speed_function(35)"
   ]
  },
  {
   "cell_type": "markdown",
   "metadata": {},
   "source": [
    "# Introduction to Pandas\n",
    "\n",
    "> pandas is an open source, BSD-licensed library providing high-performance, easy-to-use data structures and data analysis tools for the Python programming language. Source: https://pandas.pydata.org/pandas-docs/stable/index.html\n",
    "\n",
    "You can think of Pandas as the table (.dbf) of a Shapefile or as a Sheet in Excel or Google Spreadsheet. \n",
    "\n",
    "## Pandas DataFrame\n",
    "> DataFrame is a 2-dimensional labeled data structure with columns of potentially different types. You can think of it like a spreadsheet or SQL table, or a dict of Series objects. It is generally the most commonly used pandas object. Like Series, DataFrame accepts many different kinds of input. Source: https://pandas.pydata.org/pandas-docs/stable/getting_started/dsintro.html\n",
    "\n",
    "\n",
    "![pandas_dataframe](https://pandas.pydata.org/pandas-docs/stable/_images/01_table_dataframe.svg)\n",
    "<center> Source: https://pandas.pydata.org/pandas-docs/stable/getting_started </center>\n",
    "\n",
    "## Pandas Input Data Types "
   ]
  },
  {
   "cell_type": "code",
   "execution_count": 42,
   "metadata": {},
   "outputs": [
    {
     "data": {
      "text/html": [
       "\n",
       "        <iframe\n",
       "            width=\"700\"\n",
       "            height=\"300\"\n",
       "            src=\"https://pandas.pydata.org/pandas-docs/stable/user_guide/io.html#io-tools-text-csv-hdf5\"\n",
       "            frameborder=\"0\"\n",
       "            allowfullscreen\n",
       "        ></iframe>\n",
       "        "
      ],
      "text/plain": [
       "<IPython.lib.display.IFrame at 0x7fd7e089d690>"
      ]
     },
     "execution_count": 42,
     "metadata": {},
     "output_type": "execute_result"
    }
   ],
   "source": [
    "from IPython.display import IFrame\n",
    "IFrame(src='https://pandas.pydata.org/pandas-docs/stable/user_guide/io.html#io-tools-text-csv-hdf5', width=700, height=300)"
   ]
  },
  {
   "attachments": {
    "image.png": {
     "image/png": "[encoded data removed]"
    }
   },
   "cell_type": "markdown",
   "metadata": {},
   "source": [
    "### Reading and Writing Pandas Data \n",
    "\n",
    "![image.png](attachment:image.png)\n",
    "\n",
    "> Pandas supports the integration with many file formats or data sources out of the box (csv, excel, sql, json, parquet,…). Importing data from each of these data sources is provided by function with the prefix read_*. Similarly, the to_* methods are used to store data. Source: https://pandas.pydata.org/pandas-docs/stable/getting_started/index.html#getting-started\n",
    "\n",
    "\n",
    "#### Let's import the `pandas` library as `pd`"
   ]
  },
  {
   "cell_type": "code",
   "execution_count": 214,
   "metadata": {},
   "outputs": [],
   "source": [
    "import pandas as pd  # import pandas"
   ]
  },
  {
   "cell_type": "markdown",
   "metadata": {},
   "source": [
    "### Let's work with some real-world data!!!"
   ]
  },
  {
   "cell_type": "markdown",
   "metadata": {},
   "source": [
    "## US Hospitals Data\n",
    "\n",
    "> This feature class/shapefile contains locations of Hospitals for 50 US states, Washington D.C., US territories of Puerto Rico, Guam, American Samoa, Northern Mariana Islands, Palau, and Virgin Islands. The dataset only includes hospital facilities based on data acquired from various state departments or federal sources which has been referenced in the SOURCE field. Hospital facilities which do not occur in these sources will be not present in the database. The source data was available in a variety of formats (pdfs, tables, webpages, etc.) which was cleaned and geocoded and then converted into a spatial database. The database does not contain nursing homes or health centers. Hospitals have been categorized into children, chronic disease, critical access, general acute care, long term care, military, psychiatric, rehabilitation, special, and women based on the range of the available values from the various sources after removing similarities. In this update the TRAUMA field was populated for 172 additional hospitals and helipad presence were verified for all hospitals. Source: https://hifld-geoplatform.opendata.arcgis.com/datasets/hospitals\n",
    "\n",
    "[![hospitals](https://raw.githubusercontent.com/pratt-savi-810/images/master/us_hospitals.png)](https://hifld-geoplatform.opendata.arcgis.com/datasets/hospitals)"
   ]
  },
  {
   "cell_type": "code",
   "execution_count": 215,
   "metadata": {},
   "outputs": [],
   "source": [
    "csv_url = 'https://opendata.arcgis.com/datasets/6ac5e325468c4cb9b905f1728d6fbf0f_0.csv?outSR=%7B%22latestWkid%22%3A3857%2C%22wkid%22%3A102100%7D'\n",
    "# here's an api url for hospitals data from dept. homeland security"
   ]
  },
  {
   "cell_type": "code",
   "execution_count": 219,
   "metadata": {},
   "outputs": [],
   "source": [
    "df = pd.read_csv(csv_url)"
   ]
  },
  {
   "cell_type": "code",
   "execution_count": 220,
   "metadata": {},
   "outputs": [
    {
     "data": {
      "text/plain": [
       "pandas.core.frame.DataFrame"
      ]
     },
     "execution_count": 220,
     "metadata": {},
     "output_type": "execute_result"
    }
   ],
   "source": [
    "type(df)"
   ]
  },
  {
   "cell_type": "code",
   "execution_count": 222,
   "metadata": {},
   "outputs": [
    {
     "data": {
      "text/html": [
       "<div>\n",
       "<style scoped>\n",
       "    .dataframe tbody tr th:only-of-type {\n",
       "        vertical-align: middle;\n",
       "    }\n",
       "\n",
       "    .dataframe tbody tr th {\n",
       "        vertical-align: top;\n",
       "    }\n",
       "\n",
       "    .dataframe thead th {\n",
       "        text-align: right;\n",
       "    }\n",
       "</style>\n",
       "<table border=\"1\" class=\"dataframe\">\n",
       "  <thead>\n",
       "    <tr style=\"text-align: right;\">\n",
       "      <th></th>\n",
       "      <th>X</th>\n",
       "      <th>Y</th>\n",
       "      <th>OBJECTID</th>\n",
       "      <th>ID</th>\n",
       "      <th>NAME</th>\n",
       "      <th>ADDRESS</th>\n",
       "      <th>CITY</th>\n",
       "      <th>STATE</th>\n",
       "      <th>ZIP</th>\n",
       "      <th>ZIP4</th>\n",
       "      <th>...</th>\n",
       "      <th>VAL_DATE</th>\n",
       "      <th>WEBSITE</th>\n",
       "      <th>STATE_ID</th>\n",
       "      <th>ALT_NAME</th>\n",
       "      <th>ST_FIPS</th>\n",
       "      <th>OWNER</th>\n",
       "      <th>TTL_STAFF</th>\n",
       "      <th>BEDS</th>\n",
       "      <th>TRAUMA</th>\n",
       "      <th>HELIPAD</th>\n",
       "    </tr>\n",
       "  </thead>\n",
       "  <tbody>\n",
       "    <tr>\n",
       "      <td>0</td>\n",
       "      <td>-114.617494</td>\n",
       "      <td>34.833066</td>\n",
       "      <td>1001</td>\n",
       "      <td>7892363</td>\n",
       "      <td>COLORADO RIVER MEDICAL CENTER</td>\n",
       "      <td>1401 BAILEY AVENUE</td>\n",
       "      <td>NEEDLES</td>\n",
       "      <td>CA</td>\n",
       "      <td>92363</td>\n",
       "      <td>NOT AVAILABLE</td>\n",
       "      <td>...</td>\n",
       "      <td>2014-02-10T00:00:00.000Z</td>\n",
       "      <td>http://www.cityofneedles.com/Hospitals.asp</td>\n",
       "      <td>NOT AVAILABLE</td>\n",
       "      <td>NOT AVAILABLE</td>\n",
       "      <td>6</td>\n",
       "      <td>GOVERNMENT - LOCAL</td>\n",
       "      <td>-999</td>\n",
       "      <td>25</td>\n",
       "      <td>NOT AVAILABLE</td>\n",
       "      <td>Y</td>\n",
       "    </tr>\n",
       "    <tr>\n",
       "      <td>1</td>\n",
       "      <td>-117.057065</td>\n",
       "      <td>32.776586</td>\n",
       "      <td>1002</td>\n",
       "      <td>1392120</td>\n",
       "      <td>ALVARADO HOSPITAL MEDICAL CENTER</td>\n",
       "      <td>6655 ALVARADO ROAD</td>\n",
       "      <td>SAN DIEGO</td>\n",
       "      <td>CA</td>\n",
       "      <td>92120</td>\n",
       "      <td>NOT AVAILABLE</td>\n",
       "      <td>...</td>\n",
       "      <td>2014-02-10T00:00:00.000Z</td>\n",
       "      <td>http://www.alvaradohospital.com</td>\n",
       "      <td>NOT AVAILABLE</td>\n",
       "      <td>NOT AVAILABLE</td>\n",
       "      <td>6</td>\n",
       "      <td>PROPRIETARY</td>\n",
       "      <td>-999</td>\n",
       "      <td>226</td>\n",
       "      <td>NOT AVAILABLE</td>\n",
       "      <td>N</td>\n",
       "    </tr>\n",
       "    <tr>\n",
       "      <td>2</td>\n",
       "      <td>-117.044162</td>\n",
       "      <td>32.774632</td>\n",
       "      <td>1003</td>\n",
       "      <td>1591942</td>\n",
       "      <td>ALVARADO PARKWAY INSTITUTE B.H.S.</td>\n",
       "      <td>7050 PARKWAY DRIVE</td>\n",
       "      <td>LA MESA</td>\n",
       "      <td>CA</td>\n",
       "      <td>91942</td>\n",
       "      <td>NOT AVAILABLE</td>\n",
       "      <td>...</td>\n",
       "      <td>2014-02-10T00:00:00.000Z</td>\n",
       "      <td>http://www.apibhs.com</td>\n",
       "      <td>NOT AVAILABLE</td>\n",
       "      <td>NOT AVAILABLE</td>\n",
       "      <td>6</td>\n",
       "      <td>PROPRIETARY</td>\n",
       "      <td>-999</td>\n",
       "      <td>66</td>\n",
       "      <td>NOT AVAILABLE</td>\n",
       "      <td>N</td>\n",
       "    </tr>\n",
       "  </tbody>\n",
       "</table>\n",
       "<p>3 rows × 34 columns</p>\n",
       "</div>"
      ],
      "text/plain": [
       "            X          Y  OBJECTID       ID  \\\n",
       "0 -114.617494  34.833066      1001  7892363   \n",
       "1 -117.057065  32.776586      1002  1392120   \n",
       "2 -117.044162  32.774632      1003  1591942   \n",
       "\n",
       "                                NAME             ADDRESS       CITY STATE  \\\n",
       "0      COLORADO RIVER MEDICAL CENTER  1401 BAILEY AVENUE    NEEDLES    CA   \n",
       "1   ALVARADO HOSPITAL MEDICAL CENTER  6655 ALVARADO ROAD  SAN DIEGO    CA   \n",
       "2  ALVARADO PARKWAY INSTITUTE B.H.S.  7050 PARKWAY DRIVE    LA MESA    CA   \n",
       "\n",
       "     ZIP           ZIP4  ...                  VAL_DATE  \\\n",
       "0  92363  NOT AVAILABLE  ...  2014-02-10T00:00:00.000Z   \n",
       "1  92120  NOT AVAILABLE  ...  2014-02-10T00:00:00.000Z   \n",
       "2  91942  NOT AVAILABLE  ...  2014-02-10T00:00:00.000Z   \n",
       "\n",
       "                                      WEBSITE       STATE_ID       ALT_NAME  \\\n",
       "0  http://www.cityofneedles.com/Hospitals.asp  NOT AVAILABLE  NOT AVAILABLE   \n",
       "1             http://www.alvaradohospital.com  NOT AVAILABLE  NOT AVAILABLE   \n",
       "2                       http://www.apibhs.com  NOT AVAILABLE  NOT AVAILABLE   \n",
       "\n",
       "  ST_FIPS               OWNER TTL_STAFF  BEDS         TRAUMA  HELIPAD  \n",
       "0       6  GOVERNMENT - LOCAL      -999    25  NOT AVAILABLE        Y  \n",
       "1       6         PROPRIETARY      -999   226  NOT AVAILABLE        N  \n",
       "2       6         PROPRIETARY      -999    66  NOT AVAILABLE        N  \n",
       "\n",
       "[3 rows x 34 columns]"
      ]
     },
     "execution_count": 222,
     "metadata": {},
     "output_type": "execute_result"
    }
   ],
   "source": [
    "df.head(3)"
   ]
  },
  {
   "cell_type": "code",
   "execution_count": 223,
   "metadata": {},
   "outputs": [
    {
     "data": {
      "text/html": [
       "<div>\n",
       "<style scoped>\n",
       "    .dataframe tbody tr th:only-of-type {\n",
       "        vertical-align: middle;\n",
       "    }\n",
       "\n",
       "    .dataframe tbody tr th {\n",
       "        vertical-align: top;\n",
       "    }\n",
       "\n",
       "    .dataframe thead th {\n",
       "        text-align: right;\n",
       "    }\n",
       "</style>\n",
       "<table border=\"1\" class=\"dataframe\">\n",
       "  <thead>\n",
       "    <tr style=\"text-align: right;\">\n",
       "      <th></th>\n",
       "      <th>X</th>\n",
       "      <th>Y</th>\n",
       "      <th>OBJECTID</th>\n",
       "      <th>ID</th>\n",
       "      <th>NAME</th>\n",
       "      <th>ADDRESS</th>\n",
       "      <th>CITY</th>\n",
       "      <th>STATE</th>\n",
       "      <th>ZIP</th>\n",
       "      <th>ZIP4</th>\n",
       "      <th>...</th>\n",
       "      <th>VAL_DATE</th>\n",
       "      <th>WEBSITE</th>\n",
       "      <th>STATE_ID</th>\n",
       "      <th>ALT_NAME</th>\n",
       "      <th>ST_FIPS</th>\n",
       "      <th>OWNER</th>\n",
       "      <th>TTL_STAFF</th>\n",
       "      <th>BEDS</th>\n",
       "      <th>TRAUMA</th>\n",
       "      <th>HELIPAD</th>\n",
       "    </tr>\n",
       "  </thead>\n",
       "  <tbody>\n",
       "    <tr>\n",
       "      <td>7578</td>\n",
       "      <td>-81.223012</td>\n",
       "      <td>41.535709</td>\n",
       "      <td>5998</td>\n",
       "      <td>123244024</td>\n",
       "      <td>REHAB HOSPITAL AT HEATHER HILL CARE COMMUNITIES</td>\n",
       "      <td>12340 BASS LAKE ROAD</td>\n",
       "      <td>CHARDON</td>\n",
       "      <td>OH</td>\n",
       "      <td>44024</td>\n",
       "      <td>NOT AVAILABLE</td>\n",
       "      <td>...</td>\n",
       "      <td>2015-03-10T00:00:00.000Z</td>\n",
       "      <td>http://www.heatherhillcare.com/</td>\n",
       "      <td>1420</td>\n",
       "      <td>NOT AVAILABLE</td>\n",
       "      <td>39</td>\n",
       "      <td>PROPRIETARY</td>\n",
       "      <td>-999</td>\n",
       "      <td>56</td>\n",
       "      <td>NOT AVAILABLE</td>\n",
       "      <td>N</td>\n",
       "    </tr>\n",
       "    <tr>\n",
       "      <td>7579</td>\n",
       "      <td>-106.639071</td>\n",
       "      <td>35.084911</td>\n",
       "      <td>5999</td>\n",
       "      <td>4587102</td>\n",
       "      <td>ALBUQUERQUE - AMG SPECIALTY HOSPITAL LLC</td>\n",
       "      <td>235 ELM STREET NORTHEAST</td>\n",
       "      <td>ALBUQUERQUE</td>\n",
       "      <td>NM</td>\n",
       "      <td>87102</td>\n",
       "      <td>NOT AVAILABLE</td>\n",
       "      <td>...</td>\n",
       "      <td>2014-02-10T00:00:00.000Z</td>\n",
       "      <td>http://www.amgalbuquerque.com/</td>\n",
       "      <td>NOT AVAILABLE</td>\n",
       "      <td>NOT AVAILABLE</td>\n",
       "      <td>35</td>\n",
       "      <td>PROPRIETARY</td>\n",
       "      <td>-999</td>\n",
       "      <td>25</td>\n",
       "      <td>NOT AVAILABLE</td>\n",
       "      <td>N</td>\n",
       "    </tr>\n",
       "    <tr>\n",
       "      <td>7580</td>\n",
       "      <td>-65.650255</td>\n",
       "      <td>18.332016</td>\n",
       "      <td>6000</td>\n",
       "      <td>6600738</td>\n",
       "      <td>CARIBBEAN MEDICAL CENTER</td>\n",
       "      <td>151 OSVALDO AVENUE</td>\n",
       "      <td>FAJARDO</td>\n",
       "      <td>PR</td>\n",
       "      <td>738</td>\n",
       "      <td>NOT AVAILABLE</td>\n",
       "      <td>...</td>\n",
       "      <td>2014-02-10T00:00:00.000Z</td>\n",
       "      <td>www.caribbeanmedicalcenter.com</td>\n",
       "      <td>85</td>\n",
       "      <td>NOT AVAILABLE</td>\n",
       "      <td>72</td>\n",
       "      <td>NOT AVAILABLE</td>\n",
       "      <td>-999</td>\n",
       "      <td>38</td>\n",
       "      <td>NOT AVAILABLE</td>\n",
       "      <td>N</td>\n",
       "    </tr>\n",
       "  </tbody>\n",
       "</table>\n",
       "<p>3 rows × 34 columns</p>\n",
       "</div>"
      ],
      "text/plain": [
       "               X          Y  OBJECTID         ID  \\\n",
       "7578  -81.223012  41.535709      5998  123244024   \n",
       "7579 -106.639071  35.084911      5999    4587102   \n",
       "7580  -65.650255  18.332016      6000    6600738   \n",
       "\n",
       "                                                 NAME  \\\n",
       "7578  REHAB HOSPITAL AT HEATHER HILL CARE COMMUNITIES   \n",
       "7579         ALBUQUERQUE - AMG SPECIALTY HOSPITAL LLC   \n",
       "7580                         CARIBBEAN MEDICAL CENTER   \n",
       "\n",
       "                       ADDRESS         CITY STATE    ZIP           ZIP4  ...  \\\n",
       "7578      12340 BASS LAKE ROAD      CHARDON    OH  44024  NOT AVAILABLE  ...   \n",
       "7579  235 ELM STREET NORTHEAST  ALBUQUERQUE    NM  87102  NOT AVAILABLE  ...   \n",
       "7580        151 OSVALDO AVENUE      FAJARDO    PR    738  NOT AVAILABLE  ...   \n",
       "\n",
       "                      VAL_DATE                          WEBSITE  \\\n",
       "7578  2015-03-10T00:00:00.000Z  http://www.heatherhillcare.com/   \n",
       "7579  2014-02-10T00:00:00.000Z   http://www.amgalbuquerque.com/   \n",
       "7580  2014-02-10T00:00:00.000Z   www.caribbeanmedicalcenter.com   \n",
       "\n",
       "           STATE_ID       ALT_NAME ST_FIPS          OWNER TTL_STAFF  BEDS  \\\n",
       "7578           1420  NOT AVAILABLE      39    PROPRIETARY      -999    56   \n",
       "7579  NOT AVAILABLE  NOT AVAILABLE      35    PROPRIETARY      -999    25   \n",
       "7580             85  NOT AVAILABLE      72  NOT AVAILABLE      -999    38   \n",
       "\n",
       "             TRAUMA  HELIPAD  \n",
       "7578  NOT AVAILABLE        N  \n",
       "7579  NOT AVAILABLE        N  \n",
       "7580  NOT AVAILABLE        N  \n",
       "\n",
       "[3 rows x 34 columns]"
      ]
     },
     "execution_count": 223,
     "metadata": {},
     "output_type": "execute_result"
    }
   ],
   "source": [
    "df.tail(3)"
   ]
  },
  {
   "cell_type": "code",
   "execution_count": 225,
   "metadata": {},
   "outputs": [
    {
     "data": {
      "text/plain": [
       "(7581, 34)"
      ]
     },
     "execution_count": 225,
     "metadata": {},
     "output_type": "execute_result"
    }
   ],
   "source": [
    "df.shape   # rows and colums"
   ]
  },
  {
   "cell_type": "code",
   "execution_count": 227,
   "metadata": {},
   "outputs": [
    {
     "data": {
      "text/plain": [
       "7581"
      ]
     },
     "execution_count": 227,
     "metadata": {},
     "output_type": "execute_result"
    }
   ],
   "source": [
    "df.shape[0]  # rows"
   ]
  },
  {
   "cell_type": "code",
   "execution_count": 228,
   "metadata": {},
   "outputs": [
    {
     "data": {
      "text/plain": [
       "34"
      ]
     },
     "execution_count": 228,
     "metadata": {},
     "output_type": "execute_result"
    }
   ],
   "source": [
    "df.shape[1] # columns count"
   ]
  },
  {
   "cell_type": "code",
   "execution_count": 231,
   "metadata": {},
   "outputs": [
    {
     "data": {
      "text/plain": [
       "['X',\n",
       " 'Y',\n",
       " 'OBJECTID',\n",
       " 'ID',\n",
       " 'NAME',\n",
       " 'ADDRESS',\n",
       " 'CITY',\n",
       " 'STATE',\n",
       " 'ZIP',\n",
       " 'ZIP4',\n",
       " 'TELEPHONE',\n",
       " 'TYPE',\n",
       " 'STATUS',\n",
       " 'POPULATION',\n",
       " 'COUNTY',\n",
       " 'COUNTYFIPS',\n",
       " 'COUNTRY',\n",
       " 'LATITUDE',\n",
       " 'LONGITUDE',\n",
       " 'NAICS_CODE',\n",
       " 'NAICS_DESC',\n",
       " 'SOURCE',\n",
       " 'SOURCEDATE',\n",
       " 'VAL_METHOD',\n",
       " 'VAL_DATE',\n",
       " 'WEBSITE',\n",
       " 'STATE_ID',\n",
       " 'ALT_NAME',\n",
       " 'ST_FIPS',\n",
       " 'OWNER',\n",
       " 'TTL_STAFF',\n",
       " 'BEDS',\n",
       " 'TRAUMA',\n",
       " 'HELIPAD']"
      ]
     },
     "execution_count": 231,
     "metadata": {},
     "output_type": "execute_result"
    }
   ],
   "source": [
    "list(df.columns)"
   ]
  },
  {
   "cell_type": "code",
   "execution_count": 232,
   "metadata": {},
   "outputs": [
    {
     "name": "stdout",
     "output_type": "stream",
     "text": [
      "<class 'pandas.core.frame.DataFrame'>\n",
      "RangeIndex: 7581 entries, 0 to 7580\n",
      "Data columns (total 34 columns):\n",
      "X             7581 non-null float64\n",
      "Y             7581 non-null float64\n",
      "OBJECTID      7581 non-null int64\n",
      "ID            7581 non-null int64\n",
      "NAME          7581 non-null object\n",
      "ADDRESS       7581 non-null object\n",
      "CITY          7581 non-null object\n",
      "STATE         7581 non-null object\n",
      "ZIP           7581 non-null int64\n",
      "ZIP4          7581 non-null object\n",
      "TELEPHONE     7581 non-null object\n",
      "TYPE          7581 non-null object\n",
      "STATUS        7581 non-null object\n",
      "POPULATION    7581 non-null int64\n",
      "COUNTY        7581 non-null object\n",
      "COUNTYFIPS    7581 non-null object\n",
      "COUNTRY       7581 non-null object\n",
      "LATITUDE      7581 non-null float64\n",
      "LONGITUDE     7581 non-null float64\n",
      "NAICS_CODE    7581 non-null int64\n",
      "NAICS_DESC    7581 non-null object\n",
      "SOURCE        7581 non-null object\n",
      "SOURCEDATE    7581 non-null object\n",
      "VAL_METHOD    7581 non-null object\n",
      "VAL_DATE      7581 non-null object\n",
      "WEBSITE       7581 non-null object\n",
      "STATE_ID      7581 non-null object\n",
      "ALT_NAME      7581 non-null object\n",
      "ST_FIPS       7581 non-null int64\n",
      "OWNER         7581 non-null object\n",
      "TTL_STAFF     7581 non-null int64\n",
      "BEDS          7581 non-null int64\n",
      "TRAUMA        7581 non-null object\n",
      "HELIPAD       7581 non-null object\n",
      "dtypes: float64(4), int64(8), object(22)\n",
      "memory usage: 2.0+ MB\n"
     ]
    }
   ],
   "source": [
    "df.info()"
   ]
  },
  {
   "cell_type": "code",
   "execution_count": 234,
   "metadata": {},
   "outputs": [
    {
     "data": {
      "text/plain": [
       "count    7581.000000\n",
       "mean       46.533703\n",
       "std       364.693889\n",
       "min      -999.000000\n",
       "25%        25.000000\n",
       "50%        66.000000\n",
       "75%       178.000000\n",
       "max      1592.000000\n",
       "Name: BEDS, dtype: float64"
      ]
     },
     "execution_count": 234,
     "metadata": {},
     "output_type": "execute_result"
    }
   ],
   "source": [
    "df['BEDS'].describe()"
   ]
  },
  {
   "cell_type": "code",
   "execution_count": 237,
   "metadata": {},
   "outputs": [
    {
     "data": {
      "text/plain": [
       " 25      0.100514\n",
       "-999     0.087324\n",
       " 60      0.016357\n",
       " 16      0.014774\n",
       " 40      0.014510\n",
       "           ...   \n",
       " 1287    0.000132\n",
       " 1157    0.000132\n",
       " 1493    0.000132\n",
       " 1541    0.000132\n",
       " 1021    0.000132\n",
       "Name: BEDS, Length: 721, dtype: float64"
      ]
     },
     "execution_count": 237,
     "metadata": {},
     "output_type": "execute_result"
    }
   ],
   "source": [
    "df['BEDS'].value_counts(normalize=True)  # normalize = True "
   ]
  },
  {
   "cell_type": "code",
   "execution_count": 240,
   "metadata": {},
   "outputs": [
    {
     "data": {
      "text/plain": [
       "NOT AVAILABLE                     5427\n",
       "LEVEL IV                           886\n",
       "LEVEL III                          477\n",
       "LEVEL II                           332\n",
       "LEVEL I                            207\n",
       "TRH                                 35\n",
       "TRF                                 31\n",
       "LEVEL I PEDIATRIC                   24\n",
       "CTH                                 24\n",
       "LEVEL I, LEVEL II PEDIATRIC         19\n",
       "LEVEL I, LEVEL I PEDIATRIC          19\n",
       "LEVEL V                             17\n",
       "ATH                                 12\n",
       "LEVEL II, LEVEL II PEDIATRIC        10\n",
       "TRAUMA SYSTEM HOSPITAL               9\n",
       "LEVEL II PEDIATRIC                   9\n",
       "RTC                                  6\n",
       "LEVEL 3                              6\n",
       "LEVEL III, LEVEL III PEDIATRIC       5\n",
       "NOT DESIGNATED                       4\n",
       "REGIONAL TRAUMA CENTER               3\n",
       "RTH                                  3\n",
       "UNCLASSIFIED                         2\n",
       "AREA                                 2\n",
       "LEVEL I, LEVEL PEDIATRIC             2\n",
       "LEVEL II, LEVEL PEDIATRIC            2\n",
       "LEVEL 1 PEDIATRIC                    1\n",
       "LEVEL 1                              1\n",
       "RPTC                                 1\n",
       "LEVEL II, LEVEL III PEDIATRIC        1\n",
       "PARC                                 1\n",
       "LEVEL PEDIATRIC                      1\n",
       "CTF                                  1\n",
       "LEVEL III PEDIATRIC                  1\n",
       "Name: TRAUMA, dtype: int64"
      ]
     },
     "execution_count": 240,
     "metadata": {},
     "output_type": "execute_result"
    }
   ],
   "source": [
    "df['TRAUMA'].value_counts()  # normalize = True "
   ]
  },
  {
   "cell_type": "code",
   "execution_count": 241,
   "metadata": {},
   "outputs": [
    {
     "data": {
      "text/plain": [
       "GENERAL ACUTE CARE    4524\n",
       "CRITICAL ACCESS       1031\n",
       "PSYCHIATRIC            741\n",
       "LONG TERM CARE         431\n",
       "REHABILITATION         366\n",
       "MILITARY               213\n",
       "CHILDREN               124\n",
       "SPECIAL                122\n",
       "WOMEN                   20\n",
       "CHRONIC DISEASE          9\n",
       "Name: TYPE, dtype: int64"
      ]
     },
     "execution_count": 241,
     "metadata": {},
     "output_type": "execute_result"
    }
   ],
   "source": [
    "df['TYPE'].value_counts()"
   ]
  },
  {
   "cell_type": "code",
   "execution_count": 243,
   "metadata": {},
   "outputs": [],
   "source": [
    "# subselect columns to show\n",
    "ny_hosp = df[    df['STATE'] == 'NY'    ]"
   ]
  },
  {
   "cell_type": "code",
   "execution_count": 245,
   "metadata": {},
   "outputs": [
    {
     "data": {
      "text/html": [
       "<div>\n",
       "<style scoped>\n",
       "    .dataframe tbody tr th:only-of-type {\n",
       "        vertical-align: middle;\n",
       "    }\n",
       "\n",
       "    .dataframe tbody tr th {\n",
       "        vertical-align: top;\n",
       "    }\n",
       "\n",
       "    .dataframe thead th {\n",
       "        text-align: right;\n",
       "    }\n",
       "</style>\n",
       "<table border=\"1\" class=\"dataframe\">\n",
       "  <thead>\n",
       "    <tr style=\"text-align: right;\">\n",
       "      <th></th>\n",
       "      <th>X</th>\n",
       "      <th>Y</th>\n",
       "      <th>OBJECTID</th>\n",
       "      <th>ID</th>\n",
       "      <th>NAME</th>\n",
       "      <th>ADDRESS</th>\n",
       "      <th>CITY</th>\n",
       "      <th>STATE</th>\n",
       "      <th>ZIP</th>\n",
       "      <th>ZIP4</th>\n",
       "      <th>...</th>\n",
       "      <th>VAL_DATE</th>\n",
       "      <th>WEBSITE</th>\n",
       "      <th>STATE_ID</th>\n",
       "      <th>ALT_NAME</th>\n",
       "      <th>ST_FIPS</th>\n",
       "      <th>OWNER</th>\n",
       "      <th>TTL_STAFF</th>\n",
       "      <th>BEDS</th>\n",
       "      <th>TRAUMA</th>\n",
       "      <th>HELIPAD</th>\n",
       "    </tr>\n",
       "  </thead>\n",
       "  <tbody>\n",
       "    <tr>\n",
       "      <td>500</td>\n",
       "      <td>-73.115678</td>\n",
       "      <td>40.909194</td>\n",
       "      <td>1501</td>\n",
       "      <td>3611790</td>\n",
       "      <td>STONY BROOK UNIVERSITY HOSPITAL</td>\n",
       "      <td>101 NICOLLS RD</td>\n",
       "      <td>STONY BROOK</td>\n",
       "      <td>NY</td>\n",
       "      <td>11790</td>\n",
       "      <td>NOT AVAILABLE</td>\n",
       "      <td>...</td>\n",
       "      <td>2014-02-10T00:00:00.000Z</td>\n",
       "      <td>https://www.stonybrookmedicine.edu/sbuh</td>\n",
       "      <td>5151001H</td>\n",
       "      <td>NOT AVAILABLE</td>\n",
       "      <td>36</td>\n",
       "      <td>GOVERNMENT - STATE</td>\n",
       "      <td>-999</td>\n",
       "      <td>603</td>\n",
       "      <td>LEVEL I, LEVEL I PEDIATRIC</td>\n",
       "      <td>Y</td>\n",
       "    </tr>\n",
       "    <tr>\n",
       "      <td>502</td>\n",
       "      <td>-73.927709</td>\n",
       "      <td>41.717838</td>\n",
       "      <td>1503</td>\n",
       "      <td>118012601</td>\n",
       "      <td>MID-HUDSON VALLEY DIVISION OF WESTCHESTER MEDI...</td>\n",
       "      <td>241 NORTH ROAD</td>\n",
       "      <td>POUGHKEEPSIE</td>\n",
       "      <td>NY</td>\n",
       "      <td>12601</td>\n",
       "      <td>NOT AVAILABLE</td>\n",
       "      <td>...</td>\n",
       "      <td>2015-05-12T00:00:00.000Z</td>\n",
       "      <td>http://www.midhudsonregional.org/</td>\n",
       "      <td>1302000H</td>\n",
       "      <td>ST FRANCIS HOSPITAL OF POUGHKEEPSIE</td>\n",
       "      <td>36</td>\n",
       "      <td>GOVERNMENT - LOCAL</td>\n",
       "      <td>-999</td>\n",
       "      <td>243</td>\n",
       "      <td>LEVEL II</td>\n",
       "      <td>Y</td>\n",
       "    </tr>\n",
       "    <tr>\n",
       "      <td>682</td>\n",
       "      <td>-74.737524</td>\n",
       "      <td>41.709061</td>\n",
       "      <td>1683</td>\n",
       "      <td>120812742</td>\n",
       "      <td>CATSKILL REGIONAL MEDICAL CENTER</td>\n",
       "      <td>68 HARRIS-BUSHVILLE RD</td>\n",
       "      <td>HARRIS</td>\n",
       "      <td>NY</td>\n",
       "      <td>12742</td>\n",
       "      <td>NOT AVAILABLE</td>\n",
       "      <td>...</td>\n",
       "      <td>2015-02-24T00:00:00.000Z</td>\n",
       "      <td>http://www.crmcny.org/</td>\n",
       "      <td>5263000H</td>\n",
       "      <td>NOT AVAILABLE</td>\n",
       "      <td>36</td>\n",
       "      <td>NON-PROFIT</td>\n",
       "      <td>-999</td>\n",
       "      <td>154</td>\n",
       "      <td>NOT AVAILABLE</td>\n",
       "      <td>Y</td>\n",
       "    </tr>\n",
       "  </tbody>\n",
       "</table>\n",
       "<p>3 rows × 34 columns</p>\n",
       "</div>"
      ],
      "text/plain": [
       "             X          Y  OBJECTID         ID  \\\n",
       "500 -73.115678  40.909194      1501    3611790   \n",
       "502 -73.927709  41.717838      1503  118012601   \n",
       "682 -74.737524  41.709061      1683  120812742   \n",
       "\n",
       "                                                  NAME  \\\n",
       "500                    STONY BROOK UNIVERSITY HOSPITAL   \n",
       "502  MID-HUDSON VALLEY DIVISION OF WESTCHESTER MEDI...   \n",
       "682                   CATSKILL REGIONAL MEDICAL CENTER   \n",
       "\n",
       "                    ADDRESS          CITY STATE    ZIP           ZIP4  ...  \\\n",
       "500          101 NICOLLS RD   STONY BROOK    NY  11790  NOT AVAILABLE  ...   \n",
       "502          241 NORTH ROAD  POUGHKEEPSIE    NY  12601  NOT AVAILABLE  ...   \n",
       "682  68 HARRIS-BUSHVILLE RD        HARRIS    NY  12742  NOT AVAILABLE  ...   \n",
       "\n",
       "                     VAL_DATE                                  WEBSITE  \\\n",
       "500  2014-02-10T00:00:00.000Z  https://www.stonybrookmedicine.edu/sbuh   \n",
       "502  2015-05-12T00:00:00.000Z        http://www.midhudsonregional.org/   \n",
       "682  2015-02-24T00:00:00.000Z                   http://www.crmcny.org/   \n",
       "\n",
       "     STATE_ID                             ALT_NAME ST_FIPS  \\\n",
       "500  5151001H                        NOT AVAILABLE      36   \n",
       "502  1302000H  ST FRANCIS HOSPITAL OF POUGHKEEPSIE      36   \n",
       "682  5263000H                        NOT AVAILABLE      36   \n",
       "\n",
       "                  OWNER TTL_STAFF  BEDS                      TRAUMA  HELIPAD  \n",
       "500  GOVERNMENT - STATE      -999   603  LEVEL I, LEVEL I PEDIATRIC        Y  \n",
       "502  GOVERNMENT - LOCAL      -999   243                    LEVEL II        Y  \n",
       "682          NON-PROFIT      -999   154               NOT AVAILABLE        Y  \n",
       "\n",
       "[3 rows x 34 columns]"
      ]
     },
     "execution_count": 245,
     "metadata": {},
     "output_type": "execute_result"
    }
   ],
   "source": [
    "ny_hosp.head(3)"
   ]
  },
  {
   "cell_type": "code",
   "execution_count": 246,
   "metadata": {},
   "outputs": [
    {
     "data": {
      "text/plain": [
       "(277, 34)"
      ]
     },
     "execution_count": 246,
     "metadata": {},
     "output_type": "execute_result"
    }
   ],
   "source": [
    "ny_hosp.shape"
   ]
  },
  {
   "cell_type": "code",
   "execution_count": 248,
   "metadata": {},
   "outputs": [
    {
     "data": {
      "text/plain": [
       "(7581, 34)"
      ]
     },
     "execution_count": 248,
     "metadata": {},
     "output_type": "execute_result"
    }
   ],
   "source": [
    "df.shape"
   ]
  },
  {
   "cell_type": "code",
   "execution_count": 249,
   "metadata": {},
   "outputs": [
    {
     "data": {
      "text/plain": [
       "<matplotlib.axes._subplots.AxesSubplot at 0x7fd7db809450>"
      ]
     },
     "execution_count": 249,
     "metadata": {},
     "output_type": "execute_result"
    },
    {
     "data": {
      "image/png": "[encoded data removed]",
      "text/plain": [
       "<Figure size 432x288 with 1 Axes>"
      ]
     },
     "metadata": {
      "needs_background": "light"
     },
     "output_type": "display_data"
    }
   ],
   "source": [
    "df['BEDS'].hist()"
   ]
  },
  {
   "cell_type": "code",
   "execution_count": 74,
   "metadata": {},
   "outputs": [],
   "source": [
    "# note that the df object is still the whole dataset\n"
   ]
  },
  {
   "cell_type": "markdown",
   "metadata": {},
   "source": [
    "# Geopandas\n",
    "\n",
    "> **GeoPandas** is an open source project to make **working with geospatial data in python easier**. GeoPandas **extends the datatypes used by pandas to allow spatial operations on geometric types**. Geometric operations are performed by `shapely`. Geopandas further depends on `fiona` for file access and `descartes` and `matplotlib` for plotting. Source: https://geopandas.org/\n",
    "\n",
    "### Geopandas Description \n",
    "\n",
    "> The goal of GeoPandas is to make working with geospatial data in python easier. It combines the capabilities of `pandas` and `shapely`, providing geospatial operations in pandas and a high-level interface to multiple geometries to shapely. GeoPandas enables you to **easily do operations in python that would otherwise require a spatial database such as PostGIS**. Source: https://geopandas.org/\n",
    "\n",
    "#### Geopandas Installation\n",
    "\n",
    "From our **Terminal** application:\n",
    "\n",
    "```\n",
    "(geospatial) $ conda install geopandas\n",
    "```"
   ]
  },
  {
   "cell_type": "code",
   "execution_count": 250,
   "metadata": {},
   "outputs": [],
   "source": [
    "import geopandas as gpd "
   ]
  },
  {
   "cell_type": "code",
   "execution_count": 251,
   "metadata": {},
   "outputs": [],
   "source": [
    "hosp_geojson = 'https://opendata.arcgis.com/datasets/6ac5e325468c4cb9b905f1728d6fbf0f_0.geojson'"
   ]
  },
  {
   "cell_type": "code",
   "execution_count": 253,
   "metadata": {},
   "outputs": [],
   "source": [
    "gdf = gpd.read_file(hosp_geojson) "
   ]
  },
  {
   "cell_type": "code",
   "execution_count": 254,
   "metadata": {},
   "outputs": [
    {
     "data": {
      "text/html": [
       "<div>\n",
       "<style scoped>\n",
       "    .dataframe tbody tr th:only-of-type {\n",
       "        vertical-align: middle;\n",
       "    }\n",
       "\n",
       "    .dataframe tbody tr th {\n",
       "        vertical-align: top;\n",
       "    }\n",
       "\n",
       "    .dataframe thead th {\n",
       "        text-align: right;\n",
       "    }\n",
       "</style>\n",
       "<table border=\"1\" class=\"dataframe\">\n",
       "  <thead>\n",
       "    <tr style=\"text-align: right;\">\n",
       "      <th></th>\n",
       "      <th>OBJECTID</th>\n",
       "      <th>ID</th>\n",
       "      <th>NAME</th>\n",
       "      <th>ADDRESS</th>\n",
       "      <th>CITY</th>\n",
       "      <th>STATE</th>\n",
       "      <th>ZIP</th>\n",
       "      <th>ZIP4</th>\n",
       "      <th>TELEPHONE</th>\n",
       "      <th>TYPE</th>\n",
       "      <th>...</th>\n",
       "      <th>WEBSITE</th>\n",
       "      <th>STATE_ID</th>\n",
       "      <th>ALT_NAME</th>\n",
       "      <th>ST_FIPS</th>\n",
       "      <th>OWNER</th>\n",
       "      <th>TTL_STAFF</th>\n",
       "      <th>BEDS</th>\n",
       "      <th>TRAUMA</th>\n",
       "      <th>HELIPAD</th>\n",
       "      <th>geometry</th>\n",
       "    </tr>\n",
       "  </thead>\n",
       "  <tbody>\n",
       "    <tr>\n",
       "      <td>0</td>\n",
       "      <td>1001</td>\n",
       "      <td>0007892363</td>\n",
       "      <td>COLORADO RIVER MEDICAL CENTER</td>\n",
       "      <td>1401 BAILEY AVENUE</td>\n",
       "      <td>NEEDLES</td>\n",
       "      <td>CA</td>\n",
       "      <td>92363</td>\n",
       "      <td>NOT AVAILABLE</td>\n",
       "      <td>NOT AVAILABLE</td>\n",
       "      <td>GENERAL ACUTE CARE</td>\n",
       "      <td>...</td>\n",
       "      <td>http://www.cityofneedles.com/Hospitals.asp</td>\n",
       "      <td>NOT AVAILABLE</td>\n",
       "      <td>NOT AVAILABLE</td>\n",
       "      <td>06</td>\n",
       "      <td>GOVERNMENT - LOCAL</td>\n",
       "      <td>-999</td>\n",
       "      <td>25</td>\n",
       "      <td>NOT AVAILABLE</td>\n",
       "      <td>Y</td>\n",
       "      <td>POINT (-114.61749 34.83307)</td>\n",
       "    </tr>\n",
       "    <tr>\n",
       "      <td>1</td>\n",
       "      <td>1002</td>\n",
       "      <td>0001392120</td>\n",
       "      <td>ALVARADO HOSPITAL MEDICAL CENTER</td>\n",
       "      <td>6655 ALVARADO ROAD</td>\n",
       "      <td>SAN DIEGO</td>\n",
       "      <td>CA</td>\n",
       "      <td>92120</td>\n",
       "      <td>NOT AVAILABLE</td>\n",
       "      <td>NOT AVAILABLE</td>\n",
       "      <td>GENERAL ACUTE CARE</td>\n",
       "      <td>...</td>\n",
       "      <td>http://www.alvaradohospital.com</td>\n",
       "      <td>NOT AVAILABLE</td>\n",
       "      <td>NOT AVAILABLE</td>\n",
       "      <td>06</td>\n",
       "      <td>PROPRIETARY</td>\n",
       "      <td>-999</td>\n",
       "      <td>226</td>\n",
       "      <td>NOT AVAILABLE</td>\n",
       "      <td>N</td>\n",
       "      <td>POINT (-117.05706 32.77659)</td>\n",
       "    </tr>\n",
       "    <tr>\n",
       "      <td>2</td>\n",
       "      <td>1003</td>\n",
       "      <td>0001591942</td>\n",
       "      <td>ALVARADO PARKWAY INSTITUTE B.H.S.</td>\n",
       "      <td>7050 PARKWAY DRIVE</td>\n",
       "      <td>LA MESA</td>\n",
       "      <td>CA</td>\n",
       "      <td>91942</td>\n",
       "      <td>NOT AVAILABLE</td>\n",
       "      <td>NOT AVAILABLE</td>\n",
       "      <td>PSYCHIATRIC</td>\n",
       "      <td>...</td>\n",
       "      <td>http://www.apibhs.com</td>\n",
       "      <td>NOT AVAILABLE</td>\n",
       "      <td>NOT AVAILABLE</td>\n",
       "      <td>06</td>\n",
       "      <td>PROPRIETARY</td>\n",
       "      <td>-999</td>\n",
       "      <td>66</td>\n",
       "      <td>NOT AVAILABLE</td>\n",
       "      <td>N</td>\n",
       "      <td>POINT (-117.04416 32.77463)</td>\n",
       "    </tr>\n",
       "  </tbody>\n",
       "</table>\n",
       "<p>3 rows × 33 columns</p>\n",
       "</div>"
      ],
      "text/plain": [
       "   OBJECTID          ID                               NAME  \\\n",
       "0      1001  0007892363      COLORADO RIVER MEDICAL CENTER   \n",
       "1      1002  0001392120   ALVARADO HOSPITAL MEDICAL CENTER   \n",
       "2      1003  0001591942  ALVARADO PARKWAY INSTITUTE B.H.S.   \n",
       "\n",
       "              ADDRESS       CITY STATE    ZIP           ZIP4      TELEPHONE  \\\n",
       "0  1401 BAILEY AVENUE    NEEDLES    CA  92363  NOT AVAILABLE  NOT AVAILABLE   \n",
       "1  6655 ALVARADO ROAD  SAN DIEGO    CA  92120  NOT AVAILABLE  NOT AVAILABLE   \n",
       "2  7050 PARKWAY DRIVE    LA MESA    CA  91942  NOT AVAILABLE  NOT AVAILABLE   \n",
       "\n",
       "                 TYPE  ...                                     WEBSITE  \\\n",
       "0  GENERAL ACUTE CARE  ...  http://www.cityofneedles.com/Hospitals.asp   \n",
       "1  GENERAL ACUTE CARE  ...             http://www.alvaradohospital.com   \n",
       "2         PSYCHIATRIC  ...                       http://www.apibhs.com   \n",
       "\n",
       "        STATE_ID       ALT_NAME ST_FIPS               OWNER  TTL_STAFF  BEDS  \\\n",
       "0  NOT AVAILABLE  NOT AVAILABLE      06  GOVERNMENT - LOCAL       -999    25   \n",
       "1  NOT AVAILABLE  NOT AVAILABLE      06         PROPRIETARY       -999   226   \n",
       "2  NOT AVAILABLE  NOT AVAILABLE      06         PROPRIETARY       -999    66   \n",
       "\n",
       "          TRAUMA HELIPAD                     geometry  \n",
       "0  NOT AVAILABLE       Y  POINT (-114.61749 34.83307)  \n",
       "1  NOT AVAILABLE       N  POINT (-117.05706 32.77659)  \n",
       "2  NOT AVAILABLE       N  POINT (-117.04416 32.77463)  \n",
       "\n",
       "[3 rows x 33 columns]"
      ]
     },
     "execution_count": 254,
     "metadata": {},
     "output_type": "execute_result"
    }
   ],
   "source": [
    "gdf.head(3)"
   ]
  },
  {
   "cell_type": "code",
   "execution_count": 255,
   "metadata": {},
   "outputs": [
    {
     "data": {
      "text/plain": [
       "(7581, 33)"
      ]
     },
     "execution_count": 255,
     "metadata": {},
     "output_type": "execute_result"
    }
   ],
   "source": [
    "gdf.shape"
   ]
  },
  {
   "cell_type": "code",
   "execution_count": 257,
   "metadata": {},
   "outputs": [],
   "source": [
    "gdf_ny = gdf[ gdf['STATE'] == 'NY'   ]  # only ny hospitals"
   ]
  },
  {
   "cell_type": "code",
   "execution_count": 258,
   "metadata": {},
   "outputs": [
    {
     "data": {
      "text/plain": [
       "(277, 33)"
      ]
     },
     "execution_count": 258,
     "metadata": {},
     "output_type": "execute_result"
    }
   ],
   "source": [
    "gdf_ny.shape"
   ]
  },
  {
   "cell_type": "code",
   "execution_count": 260,
   "metadata": {},
   "outputs": [
    {
     "data": {
      "text/plain": [
       "<matplotlib.axes._subplots.AxesSubplot at 0x7fd7db8ba250>"
      ]
     },
     "execution_count": 260,
     "metadata": {},
     "output_type": "execute_result"
    },
    {
     "data": {
      "image/png": "[encoded data removed]",
      "text/plain": [
       "<Figure size 432x288 with 1 Axes>"
      ]
     },
     "metadata": {
      "needs_background": "light"
     },
     "output_type": "display_data"
    }
   ],
   "source": [
    "gdf_ny.plot()"
   ]
  },
  {
   "cell_type": "code",
   "execution_count": 261,
   "metadata": {},
   "outputs": [
    {
     "data": {
      "text/plain": [
       "500     POINT (-73.11568 40.90919)\n",
       "502     POINT (-73.92771 41.71784)\n",
       "682     POINT (-74.73752 41.70906)\n",
       "1030    POINT (-73.98187 44.26725)\n",
       "1114    POINT (-73.78011 42.64581)\n",
       "                   ...            \n",
       "6396    POINT (-73.95660 40.76427)\n",
       "6797    POINT (-77.95090 42.12242)\n",
       "6801    POINT (-73.77745 42.24634)\n",
       "6824    POINT (-77.04741 42.14060)\n",
       "6826    POINT (-72.67362 40.93426)\n",
       "Name: geometry, Length: 277, dtype: geometry"
      ]
     },
     "execution_count": 261,
     "metadata": {},
     "output_type": "execute_result"
    }
   ],
   "source": [
    "gdf_ny['geometry']"
   ]
  },
  {
   "cell_type": "markdown",
   "metadata": {},
   "source": [
    "### (THREAD) Where have we seen this `POINT ( ... ) ` thing before???"
   ]
  },
  {
   "cell_type": "code",
   "execution_count": 264,
   "metadata": {},
   "outputs": [],
   "source": [
    "gdf_ny.to_file('data/ny_hospitals.shp')  # for shapefile"
   ]
  },
  {
   "cell_type": "code",
   "execution_count": 265,
   "metadata": {},
   "outputs": [],
   "source": [
    "gdf_ny.to_file('data/ny_hospitals.geojson', driver='GeoJSON')\n",
    "gdf_ny.to_file('data/ny_hospitals.gpkg', driver='GPKG')\n",
    "\n",
    "# 16\n",
    "\n",
    "# To write to GeoJSON: \n",
    "# dataframe.to_file(\"output.json\", driver=\"GeoJSON\")\n",
    "\n",
    "# To write to GeoPackage: \n",
    "# dataframe.to_file(\"output.gpkg\", driver=\"GPKG\""
   ]
  },
  {
   "cell_type": "markdown",
   "metadata": {},
   "source": [
    "We've queried a Shapefile and then saved without having to open GIS software. \n",
    "\n",
    "#### You can now take a look at our file in QGIS or some other package!\n",
    "\n",
    "![hosp_qgis](https://raw.githubusercontent.com/pratt-savi-810/images/master/hospitals_qgis.png)"
   ]
  },
  {
   "cell_type": "markdown",
   "metadata": {},
   "source": [
    "### Plotting Hospitals on Leaflet"
   ]
  },
  {
   "cell_type": "code",
   "execution_count": 266,
   "metadata": {},
   "outputs": [
    {
     "data": {
      "text/html": [
       "<div style=\"width:100%;\"><div style=\"position:relative;width:100%;height:0;padding-bottom:60%;\"><iframe src=\"data:text/html;charset=utf-8;base64,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\" style=\"position:absolute;width:100%;height:100%;left:0;top:0;border:none !important;\" allowfullscreen webkitallowfullscreen mozallowfullscreen></iframe></div></div>"
      ],
      "text/plain": [
       "<folium.folium.Map at 0x7fd7db8ded90>"
      ]
     },
     "execution_count": 266,
     "metadata": {},
     "output_type": "execute_result"
    }
   ],
   "source": [
    "# Reference: # Source https://medium.com/@bobhaffner/folium-markerclusters-and-fastmarkerclusters-1e03b01cb7b1\n",
    "\n",
    "from folium.plugins import MarkerCluster\n",
    "\n",
    "m = folium.Map(\n",
    "    location=[\n",
    "        ny_hosp['Y'].mean(), \n",
    "        ny_hosp['X'].mean()\n",
    "    ], \n",
    "    zoom_start=6,\n",
    ")\n",
    "\n",
    "mc = MarkerCluster()\n",
    "\n",
    "#creating a Marker for each point in df_sample. Each point will get a popup with their zip\n",
    "for row in ny_hosp.itertuples():\n",
    "    mc.add_child(\n",
    "        folium.Marker(\n",
    "            location=[row.Y,  row.X],\n",
    "            popup=row.NAME))\n",
    " \n",
    "    m.add_child(mc)\n",
    "    \n",
    "m   "
   ]
  },
  {
   "cell_type": "code",
   "execution_count": 268,
   "metadata": {},
   "outputs": [],
   "source": [
    "m.save('index.html')"
   ]
  },
  {
   "cell_type": "code",
   "execution_count": 269,
   "metadata": {},
   "outputs": [],
   "source": [
    "import rtree"
   ]
  },
  {
   "cell_type": "markdown",
   "metadata": {},
   "source": [
    "### See a version of the map here: \n",
    "[https://pratt-savi-810.github.io/pratt-savi-810-2020-03-lesson_03/index.html](https://pratt-savi-810.github.io/pratt-savi-810-2020-03-lesson_03/index.html)"
   ]
  },
  {
   "cell_type": "code",
   "execution_count": null,
   "metadata": {},
   "outputs": [],
   "source": []
  }
 ],
 "metadata": {
  "kernelspec": {
   "display_name": "Python 3",
   "language": "python",
   "name": "python3"
  },
  "language_info": {
   "codemirror_mode": {
    "name": "ipython",
    "version": 3
   },
   "file_extension": ".py",
   "mimetype": "text/x-python",
   "name": "python",
   "nbconvert_exporter": "python",
   "pygments_lexer": "ipython3",
   "version": "3.7.4"
  },
  "toc": {
   "base_numbering": 1,
   "nav_menu": {},
   "number_sections": false,
   "sideBar": true,
   "skip_h1_title": false,
   "title_cell": "Table of Contents",
   "title_sidebar": "Contents",
   "toc_cell": true,
   "toc_position": {
    "height": "calc(100% - 180px)",
    "left": "10px",
    "top": "150px",
    "width": "165px"
   },
   "toc_section_display": true,
   "toc_window_display": true
  }
 },
 "nbformat": 4,
 "nbformat_minor": 2
}
